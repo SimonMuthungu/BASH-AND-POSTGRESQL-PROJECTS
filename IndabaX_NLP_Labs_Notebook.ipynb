{
  "nbformat": 4,
  "nbformat_minor": 0,
  "metadata": {
    "colab": {
      "provenance": [],
      "authorship_tag": "ABX9TyPnQOow/LiRgU1jAWjMUYOo",
      "include_colab_link": true
    },
    "kernelspec": {
      "name": "python3",
      "display_name": "Python 3"
    },
    "language_info": {
      "name": "python"
    }
  },
  "cells": [
    {
      "cell_type": "markdown",
      "metadata": {
        "id": "view-in-github",
        "colab_type": "text"
      },
      "source": [
        "<a href=\"https://colab.research.google.com/github/SimonMuthungu/BASH-AND-POSTGRESQL-PROJECTS/blob/main/IndabaX_NLP_Labs_Notebook.ipynb\" target=\"_parent\"><img src=\"https://colab.research.google.com/assets/colab-badge.svg\" alt=\"Open In Colab\"/></a>"
      ]
    },
    {
      "cell_type": "code",
      "source": [
        "# What is Natural Language Processing (NLP)?\n",
        "# NLP is the study of how computers can interact with humans in natural human language, according to [[3]](https://www.oracle.com/ke/artificial-intelligence/what-is-natural-language-processing/)."
      ],
      "metadata": {
        "id": "oWmWyENTNNHu"
      },
      "execution_count": 2,
      "outputs": []
    },
    {
      "cell_type": "code",
      "source": [
        "# Democracy Digest – Summarizing Political News for Citizens\n",
        "\n",
        "\n",
        "# This Lab will help"
      ],
      "metadata": {
        "id": "Rd8w72X3qaMd"
      },
      "execution_count": null,
      "outputs": []
    },
    {
      "cell_type": "code",
      "source": [
        "**Extractive vs Abstractive Summarization**\n",
        "\n",
        "- *Extractive:* Pulls key sentences from the text.\n",
        "- *Abstractive:* Rewrites the content in its own words, like a human would.\n",
        "\n",
        "This lab used **abstractive summarization** via `DistilBART`.\n"
      ],
      "metadata": {
        "id": "ODkUsZ7DqT2C"
      },
      "execution_count": null,
      "outputs": []
    },
    {
      "cell_type": "code",
      "execution_count": null,
      "metadata": {
        "id": "ase1WAQaI6z6"
      },
      "outputs": [],
      "source": [
        "\n",
        "\n",
        "# Install transformers (only once, if not already installed)\n",
        "# !pip install transformers --quiet\n",
        "\n",
        "from transformers import pipeline\n",
        "import pandas as pd"
      ]
    },
    {
      "cell_type": "code",
      "source": [
        "#Load dataset with local issues collected from X.com (local_issues.csv)\n",
        "\n",
        "\n",
        "data = pd.load_csv('local_issues.csv')\n",
        "\n",
        "data.head()"
      ],
      "metadata": {
        "id": "FAIOi2bBKKKW"
      },
      "execution_count": null,
      "outputs": []
    },
    {
      "cell_type": "code",
      "source": [
        "# Simulated dataset of political news (normally from CSV or API)\n",
        "news_data = pd.DataFrame({\n",
        "    \"title\": [\n",
        "        \"President Delivers Address to the Nation\",\n",
        "        \"New Policy Sparks Debate in Parliament\",\n",
        "        \"Opposition Questions Budget Allocation\"\n",
        "    ],\n",
        "    \"content\": [\n",
        "        \"In a speech delivered on national television, the president outlined the administration’s goals for the upcoming year...\",\n",
        "        \"The proposed policy, which aims to reform taxation, has sparked heated debate among members of parliament...\",\n",
        "        \"Leaders from the opposition have raised concerns over the budget allocation for the defense sector in the newly proposed bill...\"\n",
        "    ]\n",
        "})\n",
        "\n",
        "news_data.head()\n"
      ],
      "metadata": {
        "id": "_Rd6uMoOLpYD"
      },
      "execution_count": null,
      "outputs": []
    },
    {
      "cell_type": "code",
      "source": [
        " # (Optional) Clean Text — if you want"
      ],
      "metadata": {
        "id": "-duzescmqBDo"
      },
      "execution_count": null,
      "outputs": []
    },
    {
      "cell_type": "code",
      "source": [
        "# Load summarization model\n",
        "summarizer = pipeline(\"summarization\", model=\"sshleifer/distilbart-cnn-12-6\")\n",
        "\n",
        "# Apply summarization\n",
        "def summarize_text(text):\n",
        "    summary = summarizer(text, max_length=60, min_length=25, do_sample=False)\n",
        "    return summary[0]['summary_text']\n",
        "\n",
        "news_data['summary'] = news_data['content'].apply(summarize_text)\n"
      ],
      "metadata": {
        "id": "kpkt6ex8P_VE"
      },
      "execution_count": null,
      "outputs": []
    },
    {
      "cell_type": "code",
      "source": [
        "# Display side-by-side\n",
        "news_data[['title', 'content', 'summary']]"
      ],
      "metadata": {
        "id": "lJqVp64wSbmr"
      },
      "execution_count": null,
      "outputs": []
    }
  ]
}